{
  "nbformat": 4,
  "nbformat_minor": 0,
  "metadata": {
    "colab": {
      "name": "challenge.ipynb",
      "version": "0.3.2",
      "provenance": [],
      "collapsed_sections": [
        "ZB-hkr40dFyt",
        "nHc5eoTkdLOj",
        "aOazpp5Xky7C",
        "nceudpj8dYze",
        "6Gqj6-Xbz4t4"
      ]
    },
    "kernelspec": {
      "name": "python3",
      "display_name": "Python 3"
    }
  },
  "cells": [
    {
      "metadata": {
        "id": "tz7viPZzm3pk",
        "colab_type": "code",
        "colab": {}
      },
      "cell_type": "code",
      "source": [
        ""
      ],
      "execution_count": 0,
      "outputs": []
    },
    {
      "metadata": {
        "id": "T_pU_UH1cuzn",
        "colab_type": "code",
        "outputId": "574a4e14-9cbd-47b4-aa76-896c658af601",
        "colab": {
          "base_uri": "https://localhost:8080/",
          "height": 124
        }
      },
      "cell_type": "code",
      "source": [
        "from google.colab import drive\n",
        "drive.mount('/content/gdrive')"
      ],
      "execution_count": 0,
      "outputs": [
        {
          "output_type": "stream",
          "text": [
            "Go to this URL in a browser: https://accounts.google.com/o/oauth2/auth?client_id=947318989803-6bn6qk8qdgf4n4g3pfee6491hc0brc4i.apps.googleusercontent.com&redirect_uri=urn%3Aietf%3Awg%3Aoauth%3A2.0%3Aoob&scope=email%20https%3A%2F%2Fwww.googleapis.com%2Fauth%2Fdocs.test%20https%3A%2F%2Fwww.googleapis.com%2Fauth%2Fdrive%20https%3A%2F%2Fwww.googleapis.com%2Fauth%2Fdrive.photos.readonly%20https%3A%2F%2Fwww.googleapis.com%2Fauth%2Fpeopleapi.readonly&response_type=code\n",
            "\n",
            "Enter your authorization code:\n",
            "··········\n",
            "Mounted at /content/gdrive\n"
          ],
          "name": "stdout"
        }
      ]
    },
    {
      "metadata": {
        "id": "ZXxgzVEzoSNa",
        "colab_type": "code",
        "colab": {}
      },
      "cell_type": "code",
      "source": [
        "# # unzipping files in colab\n",
        "# import zipfile\n",
        "# zip_ref = zipfile.ZipFile(\"/content/gdrive/My Drive/challenge/data/sms-spam-collection-dataset.zip\", 'r')\n",
        "# zip_ref.extractall(\"/content/gdrive/My Drive/challenge/data/\")\n",
        "# zip_ref.close()"
      ],
      "execution_count": 0,
      "outputs": []
    },
    {
      "metadata": {
        "id": "nz2626csmaKk",
        "colab_type": "code",
        "outputId": "e8bdc023-586e-4d67-a471-3221f73dba96",
        "colab": {
          "base_uri": "https://localhost:8080/",
          "height": 34
        }
      },
      "cell_type": "code",
      "source": [
        "!ls gdrive/My\\ Drive/challenge/data"
      ],
      "execution_count": 0,
      "outputs": [
        {
          "output_type": "stream",
          "text": [
            "C50test  C50train  C50.zip\n"
          ],
          "name": "stdout"
        }
      ]
    },
    {
      "metadata": {
        "id": "ZB-hkr40dFyt",
        "colab_type": "text"
      },
      "cell_type": "markdown",
      "source": [
        "## Import Nltk"
      ]
    },
    {
      "metadata": {
        "id": "yMIwfRKwc4vf",
        "colab_type": "code",
        "outputId": "6d6848e8-21a7-467f-ed0b-6e7161ffb49c",
        "colab": {
          "base_uri": "https://localhost:8080/",
          "height": 833
        }
      },
      "cell_type": "code",
      "source": [
        "import nltk\n",
        "nltk.download(\"popular\")"
      ],
      "execution_count": 0,
      "outputs": [
        {
          "output_type": "stream",
          "text": [
            "[nltk_data] Downloading collection 'popular'\n",
            "[nltk_data]    | \n",
            "[nltk_data]    | Downloading package cmudict to /root/nltk_data...\n",
            "[nltk_data]    |   Unzipping corpora/cmudict.zip.\n",
            "[nltk_data]    | Downloading package gazetteers to /root/nltk_data...\n",
            "[nltk_data]    |   Unzipping corpora/gazetteers.zip.\n",
            "[nltk_data]    | Downloading package genesis to /root/nltk_data...\n",
            "[nltk_data]    |   Unzipping corpora/genesis.zip.\n",
            "[nltk_data]    | Downloading package gutenberg to /root/nltk_data...\n",
            "[nltk_data]    |   Unzipping corpora/gutenberg.zip.\n",
            "[nltk_data]    | Downloading package inaugural to /root/nltk_data...\n",
            "[nltk_data]    |   Unzipping corpora/inaugural.zip.\n",
            "[nltk_data]    | Downloading package movie_reviews to\n",
            "[nltk_data]    |     /root/nltk_data...\n",
            "[nltk_data]    |   Unzipping corpora/movie_reviews.zip.\n",
            "[nltk_data]    | Downloading package names to /root/nltk_data...\n",
            "[nltk_data]    |   Unzipping corpora/names.zip.\n",
            "[nltk_data]    | Downloading package shakespeare to /root/nltk_data...\n",
            "[nltk_data]    |   Unzipping corpora/shakespeare.zip.\n",
            "[nltk_data]    | Downloading package stopwords to /root/nltk_data...\n",
            "[nltk_data]    |   Unzipping corpora/stopwords.zip.\n",
            "[nltk_data]    | Downloading package treebank to /root/nltk_data...\n",
            "[nltk_data]    |   Unzipping corpora/treebank.zip.\n",
            "[nltk_data]    | Downloading package twitter_samples to\n",
            "[nltk_data]    |     /root/nltk_data...\n",
            "[nltk_data]    |   Unzipping corpora/twitter_samples.zip.\n",
            "[nltk_data]    | Downloading package omw to /root/nltk_data...\n",
            "[nltk_data]    |   Unzipping corpora/omw.zip.\n",
            "[nltk_data]    | Downloading package wordnet to /root/nltk_data...\n",
            "[nltk_data]    |   Unzipping corpora/wordnet.zip.\n",
            "[nltk_data]    | Downloading package wordnet_ic to /root/nltk_data...\n",
            "[nltk_data]    |   Unzipping corpora/wordnet_ic.zip.\n",
            "[nltk_data]    | Downloading package words to /root/nltk_data...\n",
            "[nltk_data]    |   Unzipping corpora/words.zip.\n",
            "[nltk_data]    | Downloading package maxent_ne_chunker to\n",
            "[nltk_data]    |     /root/nltk_data...\n",
            "[nltk_data]    |   Unzipping chunkers/maxent_ne_chunker.zip.\n",
            "[nltk_data]    | Downloading package punkt to /root/nltk_data...\n",
            "[nltk_data]    |   Unzipping tokenizers/punkt.zip.\n",
            "[nltk_data]    | Downloading package snowball_data to\n",
            "[nltk_data]    |     /root/nltk_data...\n",
            "[nltk_data]    | Downloading package averaged_perceptron_tagger to\n",
            "[nltk_data]    |     /root/nltk_data...\n",
            "[nltk_data]    |   Unzipping taggers/averaged_perceptron_tagger.zip.\n",
            "[nltk_data]    | \n",
            "[nltk_data]  Done downloading collection popular\n"
          ],
          "name": "stdout"
        },
        {
          "output_type": "execute_result",
          "data": {
            "text/plain": [
              "True"
            ]
          },
          "metadata": {
            "tags": []
          },
          "execution_count": 4
        }
      ]
    },
    {
      "metadata": {
        "id": "nHc5eoTkdLOj",
        "colab_type": "text"
      },
      "cell_type": "markdown",
      "source": [
        "## Initialize Vectorizers"
      ]
    },
    {
      "metadata": {
        "id": "oOzWAqOUdBw7",
        "colab_type": "code",
        "colab": {}
      },
      "cell_type": "code",
      "source": [
        "from sklearn.feature_extraction.text import CountVectorizer, TfidfVectorizer\n",
        "count_vect = CountVectorizer()"
      ],
      "execution_count": 0,
      "outputs": []
    },
    {
      "metadata": {
        "id": "7W1EqHamdSPW",
        "colab_type": "code",
        "outputId": "7ff80f7a-55e9-4497-c0a5-4209dff2d9fa",
        "colab": {
          "base_uri": "https://localhost:8080/",
          "height": 139
        }
      },
      "cell_type": "code",
      "source": [
        "from nltk.tokenize import TreebankWordTokenizer\n",
        "tokenizer = TreebankWordTokenizer()\n",
        "count_vect.set_params(tokenizer = tokenizer.tokenize)\n",
        "\n",
        "\n",
        "count_vect.set_params(stop_words = 'english')\n",
        "\n",
        "count_vect.set_params(ngram_range=(1,2))\n",
        "\n",
        "count_vect.set_params(max_df=0.5)#word should not occur in more than 50% of the documents\n",
        "\n",
        "count_vect.set_params(min_df=2)#word should occur in miimum 2 documents"
      ],
      "execution_count": 0,
      "outputs": [
        {
          "output_type": "execute_result",
          "data": {
            "text/plain": [
              "CountVectorizer(analyzer='word', binary=False, decode_error='strict',\n",
              "        dtype=<class 'numpy.int64'>, encoding='utf-8', input='content',\n",
              "        lowercase=True, max_df=0.5, max_features=None, min_df=2,\n",
              "        ngram_range=(1, 2), preprocessor=None, stop_words='english',\n",
              "        strip_accents=None, token_pattern='(?u)\\\\b\\\\w\\\\w+\\\\b',\n",
              "        tokenizer=<bound method TreebankWordTokenizer.tokenize of <nltk.tokenize.treebank.TreebankWordTokenizer object at 0x7efed2f51a58>>,\n",
              "        vocabulary=None)"
            ]
          },
          "metadata": {
            "tags": []
          },
          "execution_count": 6
        }
      ]
    },
    {
      "metadata": {
        "id": "MKwX4MIndTvQ",
        "colab_type": "code",
        "outputId": "92f656ae-8ffe-474c-b651-a483b130d405",
        "colab": {
          "base_uri": "https://localhost:8080/",
          "height": 156
        }
      },
      "cell_type": "code",
      "source": [
        "tf_vect = TfidfVectorizer()\n",
        "\n",
        "tf_vect.set_params(tokenizer = tokenizer.tokenize)\n",
        "\n",
        "\n",
        "tf_vect.set_params(stop_words = 'english')\n",
        "\n",
        "tf_vect.set_params(ngram_range=(1,2))\n",
        "\n",
        "tf_vect.set_params(max_df=0.5)#word should not occur in more than 50% of the documents\n",
        "\n",
        "tf_vect.set_params(min_df=2)#word should occur in miimum 2 documents"
      ],
      "execution_count": 0,
      "outputs": [
        {
          "output_type": "execute_result",
          "data": {
            "text/plain": [
              "TfidfVectorizer(analyzer='word', binary=False, decode_error='strict',\n",
              "        dtype=<class 'numpy.float64'>, encoding='utf-8', input='content',\n",
              "        lowercase=True, max_df=0.5, max_features=None, min_df=2,\n",
              "        ngram_range=(1, 2), norm='l2', preprocessor=None, smooth_idf=True,\n",
              "        stop_words='english', strip_accents=None, sublinear_tf=False,\n",
              "        token_pattern='(?u)\\\\b\\\\w\\\\w+\\\\b',\n",
              "        tokenizer=<bound method TreebankWordTokenizer.tokenize of <nltk.tokenize.treebank.TreebankWordTokenizer object at 0x7efed2f51a58>>,\n",
              "        use_idf=True, vocabulary=None)"
            ]
          },
          "metadata": {
            "tags": []
          },
          "execution_count": 7
        }
      ]
    },
    {
      "metadata": {
        "id": "aOazpp5Xky7C",
        "colab_type": "text"
      },
      "cell_type": "markdown",
      "source": [
        "## Loading & Preprocessing"
      ]
    },
    {
      "metadata": {
        "id": "CSQrBRfBophA",
        "colab_type": "code",
        "colab": {}
      },
      "cell_type": "code",
      "source": [
        ""
      ],
      "execution_count": 0,
      "outputs": []
    },
    {
      "metadata": {
        "id": "OExd9Hng0Eap",
        "colab_type": "code",
        "colab": {}
      },
      "cell_type": "code",
      "source": [
        "import os \n",
        "import numpy as np\n",
        "import pandas as pd"
      ],
      "execution_count": 0,
      "outputs": []
    },
    {
      "metadata": {
        "id": "CZudx9C12SlT",
        "colab_type": "code",
        "colab": {}
      },
      "cell_type": "code",
      "source": [
        "\n",
        "train_dir =  \"gdrive/My Drive/challenge/data/\"\n"
      ],
      "execution_count": 0,
      "outputs": []
    },
    {
      "metadata": {
        "id": "ONkTPkFP2KZx",
        "colab_type": "code",
        "colab": {}
      },
      "cell_type": "code",
      "source": [
        "df = pd.read_csv(os.path.join(train_dir, \"spam.csv\"),encoding=\"latin-1\")\n"
      ],
      "execution_count": 0,
      "outputs": []
    },
    {
      "metadata": {
        "id": "ZItisi3E2MZ4",
        "colab_type": "code",
        "colab": {}
      },
      "cell_type": "code",
      "source": [
        "df = df[[\"v2\",\"v1\"]].rename(columns={\"v2\":\"sms\", \"v1\":\"class\"})"
      ],
      "execution_count": 0,
      "outputs": []
    },
    {
      "metadata": {
        "id": "f97wv6KFw52n",
        "colab_type": "code",
        "colab": {}
      },
      "cell_type": "code",
      "source": [
        "df[\"class\"] = df[\"class\"].apply(lambda x: 0 if x == \"ham\" else 1)"
      ],
      "execution_count": 0,
      "outputs": []
    },
    {
      "metadata": {
        "id": "hiuCyjavxS5c",
        "colab_type": "code",
        "outputId": "79e73253-93c1-4122-ec87-ae587d8bb2f3",
        "colab": {
          "base_uri": "https://localhost:8080/",
          "height": 206
        }
      },
      "cell_type": "code",
      "source": [
        "df.head()"
      ],
      "execution_count": 0,
      "outputs": [
        {
          "output_type": "execute_result",
          "data": {
            "text/html": [
              "<div>\n",
              "<style scoped>\n",
              "    .dataframe tbody tr th:only-of-type {\n",
              "        vertical-align: middle;\n",
              "    }\n",
              "\n",
              "    .dataframe tbody tr th {\n",
              "        vertical-align: top;\n",
              "    }\n",
              "\n",
              "    .dataframe thead th {\n",
              "        text-align: right;\n",
              "    }\n",
              "</style>\n",
              "<table border=\"1\" class=\"dataframe\">\n",
              "  <thead>\n",
              "    <tr style=\"text-align: right;\">\n",
              "      <th></th>\n",
              "      <th>sms</th>\n",
              "      <th>class</th>\n",
              "    </tr>\n",
              "  </thead>\n",
              "  <tbody>\n",
              "    <tr>\n",
              "      <th>0</th>\n",
              "      <td>Go until jurong point, crazy.. Available only ...</td>\n",
              "      <td>0</td>\n",
              "    </tr>\n",
              "    <tr>\n",
              "      <th>1</th>\n",
              "      <td>Ok lar... Joking wif u oni...</td>\n",
              "      <td>0</td>\n",
              "    </tr>\n",
              "    <tr>\n",
              "      <th>2</th>\n",
              "      <td>Free entry in 2 a wkly comp to win FA Cup fina...</td>\n",
              "      <td>1</td>\n",
              "    </tr>\n",
              "    <tr>\n",
              "      <th>3</th>\n",
              "      <td>U dun say so early hor... U c already then say...</td>\n",
              "      <td>0</td>\n",
              "    </tr>\n",
              "    <tr>\n",
              "      <th>4</th>\n",
              "      <td>Nah I don't think he goes to usf, he lives aro...</td>\n",
              "      <td>0</td>\n",
              "    </tr>\n",
              "  </tbody>\n",
              "</table>\n",
              "</div>"
            ],
            "text/plain": [
              "                                                 sms  class\n",
              "0  Go until jurong point, crazy.. Available only ...      0\n",
              "1                      Ok lar... Joking wif u oni...      0\n",
              "2  Free entry in 2 a wkly comp to win FA Cup fina...      1\n",
              "3  U dun say so early hor... U c already then say...      0\n",
              "4  Nah I don't think he goes to usf, he lives aro...      0"
            ]
          },
          "metadata": {
            "tags": []
          },
          "execution_count": 13
        }
      ]
    },
    {
      "metadata": {
        "id": "hmq42KVa3ROA",
        "colab_type": "code",
        "colab": {}
      },
      "cell_type": "code",
      "source": [
        "X = df[\"sms\"]\n",
        "y = df[\"class\"]"
      ],
      "execution_count": 0,
      "outputs": []
    },
    {
      "metadata": {
        "id": "BAJQCfSh6r8a",
        "colab_type": "code",
        "outputId": "11d6a6e9-ffad-4458-fbc2-1de224fad051",
        "colab": {
          "base_uri": "https://localhost:8080/",
          "height": 72
        }
      },
      "cell_type": "code",
      "source": [
        "from sklearn.model_selection import train_test_split\n",
        "\n",
        "X_train, X_test, y_train, y_test = train_test_split(X, y, train_size = 0.8)\n"
      ],
      "execution_count": 0,
      "outputs": [
        {
          "output_type": "stream",
          "text": [
            "/usr/local/lib/python3.6/dist-packages/sklearn/model_selection/_split.py:2179: FutureWarning: From version 0.21, test_size will always complement train_size unless both are specified.\n",
            "  FutureWarning)\n"
          ],
          "name": "stderr"
        }
      ]
    },
    {
      "metadata": {
        "id": "x2sSCTEQ0eLw",
        "colab_type": "code",
        "colab": {}
      },
      "cell_type": "code",
      "source": [
        ""
      ],
      "execution_count": 0,
      "outputs": []
    },
    {
      "metadata": {
        "id": "nceudpj8dYze",
        "colab_type": "text"
      },
      "cell_type": "markdown",
      "source": [
        "## Fit Vectorizers"
      ]
    },
    {
      "metadata": {
        "id": "8a8L7C2JdV9U",
        "colab_type": "code",
        "colab": {}
      },
      "cell_type": "code",
      "source": [
        "def vectorizer(type):\n",
        "  if type == \"count_vectorizer\":\n",
        "    vect = count_vect\n",
        "  if type == \"tfidf\":\n",
        "    vect = tf_vect\n",
        "  return vect\n"
      ],
      "execution_count": 0,
      "outputs": []
    },
    {
      "metadata": {
        "id": "pvbPbDiEkgB5",
        "colab_type": "code",
        "colab": {}
      },
      "cell_type": "code",
      "source": [
        "vect_count = vectorizer(\"count_vectorizer\")"
      ],
      "execution_count": 0,
      "outputs": []
    },
    {
      "metadata": {
        "id": "I491pbGK1D1D",
        "colab_type": "code",
        "colab": {}
      },
      "cell_type": "code",
      "source": [
        "veft_tf = vectorizer(\"tfidf\")"
      ],
      "execution_count": 0,
      "outputs": []
    },
    {
      "metadata": {
        "id": "vt-1iFUy0qE2",
        "colab_type": "code",
        "outputId": "f6545e01-17b1-4019-d757-3ed2869ef8fa",
        "colab": {
          "base_uri": "https://localhost:8080/",
          "height": 139
        }
      },
      "cell_type": "code",
      "source": [
        "vect_count.fit(X_train)"
      ],
      "execution_count": 0,
      "outputs": [
        {
          "output_type": "execute_result",
          "data": {
            "text/plain": [
              "CountVectorizer(analyzer='word', binary=False, decode_error='strict',\n",
              "        dtype=<class 'numpy.int64'>, encoding='utf-8', input='content',\n",
              "        lowercase=True, max_df=0.5, max_features=None, min_df=2,\n",
              "        ngram_range=(1, 2), preprocessor=None, stop_words='english',\n",
              "        strip_accents=None, token_pattern='(?u)\\\\b\\\\w\\\\w+\\\\b',\n",
              "        tokenizer=<bound method TreebankWordTokenizer.tokenize of <nltk.tokenize.treebank.TreebankWordTokenizer object at 0x7efed2f51a58>>,\n",
              "        vocabulary=None)"
            ]
          },
          "metadata": {
            "tags": []
          },
          "execution_count": 19
        }
      ]
    },
    {
      "metadata": {
        "id": "GEVSip4Q0qBp",
        "colab_type": "code",
        "outputId": "a355fafb-0479-4355-e7ac-9caa68211217",
        "colab": {
          "base_uri": "https://localhost:8080/",
          "height": 156
        }
      },
      "cell_type": "code",
      "source": [
        "veft_tf.fit(X_train)"
      ],
      "execution_count": 0,
      "outputs": [
        {
          "output_type": "execute_result",
          "data": {
            "text/plain": [
              "TfidfVectorizer(analyzer='word', binary=False, decode_error='strict',\n",
              "        dtype=<class 'numpy.float64'>, encoding='utf-8', input='content',\n",
              "        lowercase=True, max_df=0.5, max_features=None, min_df=2,\n",
              "        ngram_range=(1, 2), norm='l2', preprocessor=None, smooth_idf=True,\n",
              "        stop_words='english', strip_accents=None, sublinear_tf=False,\n",
              "        token_pattern='(?u)\\\\b\\\\w\\\\w+\\\\b',\n",
              "        tokenizer=<bound method TreebankWordTokenizer.tokenize of <nltk.tokenize.treebank.TreebankWordTokenizer object at 0x7efed2f51a58>>,\n",
              "        use_idf=True, vocabulary=None)"
            ]
          },
          "metadata": {
            "tags": []
          },
          "execution_count": 20
        }
      ]
    },
    {
      "metadata": {
        "id": "sycemyK1z0BL",
        "colab_type": "text"
      },
      "cell_type": "markdown",
      "source": [
        "### checking size"
      ]
    },
    {
      "metadata": {
        "id": "GJNE-puZr0Jw",
        "colab_type": "code",
        "outputId": "41b169db-a844-494c-cd71-c175ad13569c",
        "colab": {
          "base_uri": "https://localhost:8080/",
          "height": 34
        }
      },
      "cell_type": "code",
      "source": [
        "df[df[\"class\"] == 0].shape"
      ],
      "execution_count": 0,
      "outputs": [
        {
          "output_type": "execute_result",
          "data": {
            "text/plain": [
              "(4825, 2)"
            ]
          },
          "metadata": {
            "tags": []
          },
          "execution_count": 125
        }
      ]
    },
    {
      "metadata": {
        "id": "3xCaU_POzF5c",
        "colab_type": "code",
        "outputId": "4a491aed-4834-4564-816f-8d8482457d41",
        "colab": {
          "base_uri": "https://localhost:8080/",
          "height": 34
        }
      },
      "cell_type": "code",
      "source": [
        "df[df[\"class\"] == 1].shape"
      ],
      "execution_count": 0,
      "outputs": [
        {
          "output_type": "execute_result",
          "data": {
            "text/plain": [
              "(747, 2)"
            ]
          },
          "metadata": {
            "tags": []
          },
          "execution_count": 126
        }
      ]
    },
    {
      "metadata": {
        "id": "RMP2oL-ZzYf4",
        "colab_type": "code",
        "outputId": "f0cbfae5-67ec-4e95-d547-9da8db8bd822",
        "colab": {
          "base_uri": "https://localhost:8080/",
          "height": 34
        }
      },
      "cell_type": "code",
      "source": [
        "747/4825"
      ],
      "execution_count": 0,
      "outputs": [
        {
          "output_type": "execute_result",
          "data": {
            "text/plain": [
              "0.15481865284974095"
            ]
          },
          "metadata": {
            "tags": []
          },
          "execution_count": 127
        }
      ]
    },
    {
      "metadata": {
        "id": "W_DveFWlzcVB",
        "colab_type": "code",
        "colab": {}
      },
      "cell_type": "code",
      "source": [
        ""
      ],
      "execution_count": 0,
      "outputs": []
    },
    {
      "metadata": {
        "id": "6Gqj6-Xbz4t4",
        "colab_type": "text"
      },
      "cell_type": "markdown",
      "source": [
        "## Transform_data"
      ]
    },
    {
      "metadata": {
        "id": "mgN4rFkj2Hr_",
        "colab_type": "code",
        "colab": {}
      },
      "cell_type": "code",
      "source": [
        "def get_vectorized_df(vectorizer, X_train, X_test):\n",
        "  if vectorizer == \"count_vectorizer\":\n",
        "    vect = count_vect\n",
        "  if vectorizer == \"tfidf\":\n",
        "    vect = tf_vect\n",
        "  vect.fit(X_train)\n",
        "  train_vectors = vect.transform(X_train)\n",
        "  test_vectors = vect.transform(X_test)\n",
        "  features = vect.get_feature_names()\n",
        "  return train_vectors, test_vectors, features"
      ],
      "execution_count": 0,
      "outputs": []
    },
    {
      "metadata": {
        "id": "eppN-RXez6J7",
        "colab_type": "code",
        "colab": {}
      },
      "cell_type": "code",
      "source": [
        "train_vectors, test_vectors, features = get_vectorized_df(\"tfidf\", X_train, X_test)"
      ],
      "execution_count": 0,
      "outputs": []
    },
    {
      "metadata": {
        "id": "bSvE27tG2G9l",
        "colab_type": "code",
        "colab": {}
      },
      "cell_type": "code",
      "source": [
        "# train_vectors.to_csv(\"/content/gdrive/My Drive/challenge/data/train_vectors.csv\")\n",
        "# test_vectors.to_csv(\"/content/gdrive/My Drive/challenge/data/test_vectors.csv\")"
      ],
      "execution_count": 0,
      "outputs": []
    },
    {
      "metadata": {
        "id": "ZMj72_tV8A7A",
        "colab_type": "code",
        "colab": {}
      },
      "cell_type": "code",
      "source": [
        "# y_train.to_csv(\"/content/gdrive/My Drive/challenge/data/y_train.csv\")\n",
        "# y_test.to_csv(\"/content/gdrive/My Drive/challenge/data/y_test.csv\")"
      ],
      "execution_count": 0,
      "outputs": []
    },
    {
      "metadata": {
        "id": "FyFbKrS51xQx",
        "colab_type": "code",
        "outputId": "a5d256e6-2dc7-42e2-8b7a-f590a66cf4fa",
        "colab": {
          "base_uri": "https://localhost:8080/",
          "height": 236
        }
      },
      "cell_type": "code",
      "source": [
        "pd.DataFrame(train_vectors.toarray(), columns=features).head()"
      ],
      "execution_count": 0,
      "outputs": [
        {
          "output_type": "execute_result",
          "data": {
            "text/html": [
              "<div>\n",
              "<style scoped>\n",
              "    .dataframe tbody tr th:only-of-type {\n",
              "        vertical-align: middle;\n",
              "    }\n",
              "\n",
              "    .dataframe tbody tr th {\n",
              "        vertical-align: top;\n",
              "    }\n",
              "\n",
              "    .dataframe thead th {\n",
              "        text-align: right;\n",
              "    }\n",
              "</style>\n",
              "<table border=\"1\" class=\"dataframe\">\n",
              "  <thead>\n",
              "    <tr style=\"text-align: right;\">\n",
              "      <th></th>\n",
              "      <th>!</th>\n",
              "      <th>! !</th>\n",
              "      <th>! ''</th>\n",
              "      <th>! ''.</th>\n",
              "      <th>! 'd</th>\n",
              "      <th>! 'll</th>\n",
              "      <th>! 'm</th>\n",
              "      <th>! 's</th>\n",
              "      <th>! 've</th>\n",
              "      <th>! (</th>\n",
              "      <th>...</th>\n",
              "      <th>ì_ noe</th>\n",
              "      <th>ì_ say</th>\n",
              "      <th>ì_ send</th>\n",
              "      <th>ì_ wait</th>\n",
              "      <th>ì_ wan</th>\n",
              "      <th>ìï</th>\n",
              "      <th>ìï got</th>\n",
              "      <th>ìï sch</th>\n",
              "      <th>ìï wait</th>\n",
              "      <th>ìï wan</th>\n",
              "    </tr>\n",
              "  </thead>\n",
              "  <tbody>\n",
              "    <tr>\n",
              "      <th>0</th>\n",
              "      <td>0.000000</td>\n",
              "      <td>0.0</td>\n",
              "      <td>0.0</td>\n",
              "      <td>0.0</td>\n",
              "      <td>0.0</td>\n",
              "      <td>0.0</td>\n",
              "      <td>0.0</td>\n",
              "      <td>0.0</td>\n",
              "      <td>0.0</td>\n",
              "      <td>0.0</td>\n",
              "      <td>...</td>\n",
              "      <td>0.0</td>\n",
              "      <td>0.0</td>\n",
              "      <td>0.0</td>\n",
              "      <td>0.0</td>\n",
              "      <td>0.0</td>\n",
              "      <td>0.0</td>\n",
              "      <td>0.0</td>\n",
              "      <td>0.0</td>\n",
              "      <td>0.0</td>\n",
              "      <td>0.0</td>\n",
              "    </tr>\n",
              "    <tr>\n",
              "      <th>1</th>\n",
              "      <td>0.000000</td>\n",
              "      <td>0.0</td>\n",
              "      <td>0.0</td>\n",
              "      <td>0.0</td>\n",
              "      <td>0.0</td>\n",
              "      <td>0.0</td>\n",
              "      <td>0.0</td>\n",
              "      <td>0.0</td>\n",
              "      <td>0.0</td>\n",
              "      <td>0.0</td>\n",
              "      <td>...</td>\n",
              "      <td>0.0</td>\n",
              "      <td>0.0</td>\n",
              "      <td>0.0</td>\n",
              "      <td>0.0</td>\n",
              "      <td>0.0</td>\n",
              "      <td>0.0</td>\n",
              "      <td>0.0</td>\n",
              "      <td>0.0</td>\n",
              "      <td>0.0</td>\n",
              "      <td>0.0</td>\n",
              "    </tr>\n",
              "    <tr>\n",
              "      <th>2</th>\n",
              "      <td>0.197685</td>\n",
              "      <td>0.0</td>\n",
              "      <td>0.0</td>\n",
              "      <td>0.0</td>\n",
              "      <td>0.0</td>\n",
              "      <td>0.0</td>\n",
              "      <td>0.0</td>\n",
              "      <td>0.0</td>\n",
              "      <td>0.0</td>\n",
              "      <td>0.0</td>\n",
              "      <td>...</td>\n",
              "      <td>0.0</td>\n",
              "      <td>0.0</td>\n",
              "      <td>0.0</td>\n",
              "      <td>0.0</td>\n",
              "      <td>0.0</td>\n",
              "      <td>0.0</td>\n",
              "      <td>0.0</td>\n",
              "      <td>0.0</td>\n",
              "      <td>0.0</td>\n",
              "      <td>0.0</td>\n",
              "    </tr>\n",
              "    <tr>\n",
              "      <th>3</th>\n",
              "      <td>0.000000</td>\n",
              "      <td>0.0</td>\n",
              "      <td>0.0</td>\n",
              "      <td>0.0</td>\n",
              "      <td>0.0</td>\n",
              "      <td>0.0</td>\n",
              "      <td>0.0</td>\n",
              "      <td>0.0</td>\n",
              "      <td>0.0</td>\n",
              "      <td>0.0</td>\n",
              "      <td>...</td>\n",
              "      <td>0.0</td>\n",
              "      <td>0.0</td>\n",
              "      <td>0.0</td>\n",
              "      <td>0.0</td>\n",
              "      <td>0.0</td>\n",
              "      <td>0.0</td>\n",
              "      <td>0.0</td>\n",
              "      <td>0.0</td>\n",
              "      <td>0.0</td>\n",
              "      <td>0.0</td>\n",
              "    </tr>\n",
              "    <tr>\n",
              "      <th>4</th>\n",
              "      <td>0.000000</td>\n",
              "      <td>0.0</td>\n",
              "      <td>0.0</td>\n",
              "      <td>0.0</td>\n",
              "      <td>0.0</td>\n",
              "      <td>0.0</td>\n",
              "      <td>0.0</td>\n",
              "      <td>0.0</td>\n",
              "      <td>0.0</td>\n",
              "      <td>0.0</td>\n",
              "      <td>...</td>\n",
              "      <td>0.0</td>\n",
              "      <td>0.0</td>\n",
              "      <td>0.0</td>\n",
              "      <td>0.0</td>\n",
              "      <td>0.0</td>\n",
              "      <td>0.0</td>\n",
              "      <td>0.0</td>\n",
              "      <td>0.0</td>\n",
              "      <td>0.0</td>\n",
              "      <td>0.0</td>\n",
              "    </tr>\n",
              "  </tbody>\n",
              "</table>\n",
              "<p>5 rows × 9496 columns</p>\n",
              "</div>"
            ],
            "text/plain": [
              "          !  ! !  ! ''  ! ''.  ! 'd  ! 'll  ! 'm  ! 's  ! 've  ! (   ...    \\\n",
              "0  0.000000  0.0   0.0    0.0   0.0    0.0   0.0   0.0    0.0  0.0   ...     \n",
              "1  0.000000  0.0   0.0    0.0   0.0    0.0   0.0   0.0    0.0  0.0   ...     \n",
              "2  0.197685  0.0   0.0    0.0   0.0    0.0   0.0   0.0    0.0  0.0   ...     \n",
              "3  0.000000  0.0   0.0    0.0   0.0    0.0   0.0   0.0    0.0  0.0   ...     \n",
              "4  0.000000  0.0   0.0    0.0   0.0    0.0   0.0   0.0    0.0  0.0   ...     \n",
              "\n",
              "   ì_ noe  ì_ say  ì_ send  ì_ wait  ì_ wan   ìï  ìï got  ìï sch  ìï wait  \\\n",
              "0     0.0     0.0      0.0      0.0     0.0  0.0     0.0     0.0      0.0   \n",
              "1     0.0     0.0      0.0      0.0     0.0  0.0     0.0     0.0      0.0   \n",
              "2     0.0     0.0      0.0      0.0     0.0  0.0     0.0     0.0      0.0   \n",
              "3     0.0     0.0      0.0      0.0     0.0  0.0     0.0     0.0      0.0   \n",
              "4     0.0     0.0      0.0      0.0     0.0  0.0     0.0     0.0      0.0   \n",
              "\n",
              "   ìï wan  \n",
              "0     0.0  \n",
              "1     0.0  \n",
              "2     0.0  \n",
              "3     0.0  \n",
              "4     0.0  \n",
              "\n",
              "[5 rows x 9496 columns]"
            ]
          },
          "metadata": {
            "tags": []
          },
          "execution_count": 23
        }
      ]
    },
    {
      "metadata": {
        "id": "qFmmEbVm19NH",
        "colab_type": "code",
        "colab": {}
      },
      "cell_type": "code",
      "source": [
        ""
      ],
      "execution_count": 0,
      "outputs": []
    },
    {
      "metadata": {
        "id": "Gx1KnLGv40tm",
        "colab_type": "text"
      },
      "cell_type": "markdown",
      "source": [
        "## Fit Models"
      ]
    },
    {
      "metadata": {
        "id": "4YW0yurB411L",
        "colab_type": "code",
        "colab": {}
      },
      "cell_type": "code",
      "source": [
        "from sklearn.naive_bayes import GaussianNB"
      ],
      "execution_count": 0,
      "outputs": []
    },
    {
      "metadata": {
        "id": "ydifaW_JHPmR",
        "colab_type": "code",
        "colab": {}
      },
      "cell_type": "code",
      "source": [
        "nb = GaussianNB()"
      ],
      "execution_count": 0,
      "outputs": []
    },
    {
      "metadata": {
        "id": "IZg3dPorHnFL",
        "colab_type": "code",
        "outputId": "75c47d97-4ed2-424c-ed49-1cb60a4ee4ae",
        "colab": {
          "base_uri": "https://localhost:8080/",
          "height": 34
        }
      },
      "cell_type": "code",
      "source": [
        "nb.fit(train_vectors.toarray(), y_train)"
      ],
      "execution_count": 0,
      "outputs": [
        {
          "output_type": "execute_result",
          "data": {
            "text/plain": [
              "GaussianNB(priors=None, var_smoothing=1e-09)"
            ]
          },
          "metadata": {
            "tags": []
          },
          "execution_count": 26
        }
      ]
    },
    {
      "metadata": {
        "id": "N3txCGJkIF2V",
        "colab_type": "code",
        "colab": {}
      },
      "cell_type": "code",
      "source": [
        "from sklearn.metrics.classification import classification_report, accuracy_score, recall_score, precision_score, f1_score, confusion_matrix\n",
        "from sklearn.model_selection import cross_val_predict"
      ],
      "execution_count": 0,
      "outputs": []
    },
    {
      "metadata": {
        "id": "XtLgg5SKCeyf",
        "colab_type": "code",
        "colab": {}
      },
      "cell_type": "code",
      "source": [
        "def evaluation(model):\n",
        "  y_pred = model.predict(test_vectors.toarray())\n",
        "  print(\"ACCURACY::\", accuracy_score(y_pred, y_test))\n",
        "  print(\"PRECISION::\", precision_score(y_pred, y_test))\n",
        "  print(\"RECALL::\", recall_score(y_pred, y_test))\n",
        "  print(\"F1 SCORE::\", f1_score(y_pred, y_test))\n",
        "  print(\"CONFUSION MATRIX::\", confusion_matrix(y_pred, y_test))\n",
        "  tn, fp, fn, tp = confusion_matrix(y_pred, y_test).ravel()\n",
        "  print(tn, fp, fn, tp)\n"
      ],
      "execution_count": 0,
      "outputs": []
    },
    {
      "metadata": {
        "id": "bzecdqnkIvay",
        "colab_type": "code",
        "outputId": "31a4038a-d841-4fe6-ccfa-d2bd8ee98254",
        "colab": {
          "base_uri": "https://localhost:8080/",
          "height": 191
        }
      },
      "cell_type": "code",
      "source": [
        "y_pred = cross_val_predict(nb, test_vectors.toarray(), y_test, cv=5)\n",
        "\n",
        "print(classification_report(y_test, y_pred))\n",
        "print(\"ACCURACY::\", accuracy_score(y_pred, y_test))"
      ],
      "execution_count": 0,
      "outputs": [
        {
          "output_type": "stream",
          "text": [
            "              precision    recall  f1-score   support\n",
            "\n",
            "           0       0.98      0.92      0.95       978\n",
            "           1       0.59      0.84      0.69       137\n",
            "\n",
            "   micro avg       0.91      0.91      0.91      1115\n",
            "   macro avg       0.78      0.88      0.82      1115\n",
            "weighted avg       0.93      0.91      0.91      1115\n",
            "\n",
            "ACCURACY:: 0.9076233183856502\n"
          ],
          "name": "stdout"
        }
      ]
    },
    {
      "metadata": {
        "id": "hrXLXVPD5E11",
        "colab_type": "code",
        "outputId": "b64ea80a-cc4f-4b16-b0e8-c9e5a08f2364",
        "colab": {
          "base_uri": "https://localhost:8080/",
          "height": 191
        }
      },
      "cell_type": "code",
      "source": [
        "nb = GaussianNB()\n",
        "nb.fit(train_vectors.toarray(), y_train)\n",
        "y_pred = cross_val_predict(nb, test_vectors.toarray(), y_test, cv=5)\n",
        "\n",
        "print(classification_report(y_test, y_pred))\n",
        "print(\"ACCURACY::\", accuracy_score(y_pred, y_test))"
      ],
      "execution_count": 0,
      "outputs": [
        {
          "output_type": "stream",
          "text": [
            "              precision    recall  f1-score   support\n",
            "\n",
            "           0       0.97      0.92      0.95       967\n",
            "           1       0.62      0.84      0.72       148\n",
            "\n",
            "   micro avg       0.91      0.91      0.91      1115\n",
            "   macro avg       0.80      0.88      0.83      1115\n",
            "weighted avg       0.93      0.91      0.92      1115\n",
            "\n",
            "ACCURACY:: 0.9112107623318386\n"
          ],
          "name": "stdout"
        }
      ]
    },
    {
      "metadata": {
        "id": "tWkgrtzrB9FC",
        "colab_type": "code",
        "outputId": "8adf9f80-2f0b-45f4-b48d-90824db430f4",
        "colab": {
          "base_uri": "https://localhost:8080/",
          "height": 139
        }
      },
      "cell_type": "code",
      "source": [
        "nb = GaussianNB()\n",
        "nb.fit(train_vectors.toarray(), y_train)\n",
        "evaluation(nb)"
      ],
      "execution_count": 0,
      "outputs": [
        {
          "output_type": "stream",
          "text": [
            "ACCURACY:: 0.9318385650224216\n",
            "PRECISION:: 0.9121621621621622\n",
            "RECALL:: 0.6818181818181818\n",
            "F1 SCORE:: 0.7803468208092486\n",
            "CONFUSION MATRIX:: [[904  13]\n",
            " [ 63 135]]\n",
            "904 13 63 135\n"
          ],
          "name": "stdout"
        }
      ]
    },
    {
      "metadata": {
        "id": "2OHRECl-57xg",
        "colab_type": "code",
        "colab": {}
      },
      "cell_type": "code",
      "source": [
        "from sklearn.naive_bayes import MultinomialNB, BernoulliNB\n",
        "from sklearn.linear_model import LogisticRegression, SGDClassifier\n",
        "from sklearn.svm import SVC, LinearSVC, NuSVC"
      ],
      "execution_count": 0,
      "outputs": []
    },
    {
      "metadata": {
        "id": "mX7gRsVv_iuA",
        "colab_type": "code",
        "colab": {}
      },
      "cell_type": "code",
      "source": [
        "from nltk.classify.scikitlearn import SklearnClassifier"
      ],
      "execution_count": 0,
      "outputs": []
    },
    {
      "metadata": {
        "id": "4t6R67oVKX2q",
        "colab_type": "code",
        "outputId": "a208b885-823b-40f0-e9d1-026212249aa1",
        "colab": {
          "base_uri": "https://localhost:8080/",
          "height": 191
        }
      },
      "cell_type": "code",
      "source": [
        "MNB_classifier = MultinomialNB()\n",
        "MNB_classifier.fit(train_vectors.toarray(), y_train)\n",
        "y_pred = cross_val_predict(MNB_classifier, test_vectors.toarray(), y_test, cv=5)\n",
        "\n",
        "print(classification_report(y_test, y_pred))\n",
        "print(\"ACCURACY::\", accuracy_score(y_pred, y_test))"
      ],
      "execution_count": 0,
      "outputs": [
        {
          "output_type": "stream",
          "text": [
            "              precision    recall  f1-score   support\n",
            "\n",
            "           0       0.88      1.00      0.94       967\n",
            "           1       1.00      0.15      0.26       148\n",
            "\n",
            "   micro avg       0.89      0.89      0.89      1115\n",
            "   macro avg       0.94      0.57      0.60      1115\n",
            "weighted avg       0.90      0.89      0.85      1115\n",
            "\n",
            "ACCURACY:: 0.8869955156950673\n"
          ],
          "name": "stdout"
        }
      ]
    },
    {
      "metadata": {
        "id": "qNkfoHGR5VoS",
        "colab_type": "code",
        "outputId": "c3468873-431b-4f5a-9e42-583dd3cfb3e2",
        "colab": {
          "base_uri": "https://localhost:8080/",
          "height": 139
        }
      },
      "cell_type": "code",
      "source": [
        "evaluation(MNB_classifier)"
      ],
      "execution_count": 0,
      "outputs": [
        {
          "output_type": "stream",
          "text": [
            "ACCURACY:: 0.9704035874439462\n",
            "PRECISION:: 0.777027027027027\n",
            "RECALL:: 1.0\n",
            "F1 SCORE:: 0.8745247148288973\n",
            "CONFUSION MATRIX:: [[967  33]\n",
            " [  0 115]]\n",
            "967 33 0 115\n"
          ],
          "name": "stdout"
        }
      ]
    },
    {
      "metadata": {
        "id": "Wv_6RvjLKmbq",
        "colab_type": "code",
        "outputId": "f8c0f479-96ef-49e9-b160-5d1ed7d69f91",
        "colab": {
          "base_uri": "https://localhost:8080/",
          "height": 191
        }
      },
      "cell_type": "code",
      "source": [
        "BernoulliNB_classifier = BernoulliNB()\n",
        "BernoulliNB_classifier.fit(train_vectors.toarray(), y_train)\n",
        "y_pred = cross_val_predict(BernoulliNB_classifier, test_vectors.toarray(), y_test, cv=5)\n",
        "\n",
        "print(classification_report(y_test, y_pred))\n",
        "print(\"ACCURACY::\", accuracy_score(y_pred, y_test))"
      ],
      "execution_count": 0,
      "outputs": [
        {
          "output_type": "stream",
          "text": [
            "              precision    recall  f1-score   support\n",
            "\n",
            "           0       0.88      1.00      0.93       967\n",
            "           1       0.92      0.08      0.15       148\n",
            "\n",
            "   micro avg       0.88      0.88      0.88      1115\n",
            "   macro avg       0.90      0.54      0.54      1115\n",
            "weighted avg       0.88      0.88      0.83      1115\n",
            "\n",
            "ACCURACY:: 0.8771300448430494\n"
          ],
          "name": "stdout"
        }
      ]
    },
    {
      "metadata": {
        "id": "eED919y8CVyO",
        "colab_type": "code",
        "outputId": "9ce56874-5be3-494e-ee28-9827d2a69f9f",
        "colab": {
          "base_uri": "https://localhost:8080/",
          "height": 139
        }
      },
      "cell_type": "code",
      "source": [
        "evaluation(BernoulliNB_classifier)"
      ],
      "execution_count": 0,
      "outputs": [
        {
          "output_type": "stream",
          "text": [
            "ACCURACY:: 0.9632286995515695\n",
            "PRECISION:: 0.722972972972973\n",
            "RECALL:: 1.0\n",
            "F1 SCORE:: 0.8392156862745098\n",
            "CONFUSION MATRIX:: [[967  41]\n",
            " [  0 107]]\n",
            "967 41 0 107\n"
          ],
          "name": "stdout"
        }
      ]
    },
    {
      "metadata": {
        "id": "HWZzjfpGKm52",
        "colab_type": "code",
        "outputId": "21941577-ba96-400d-82ca-d28486725d22",
        "colab": {
          "base_uri": "https://localhost:8080/",
          "height": 419
        }
      },
      "cell_type": "code",
      "source": [
        "LogisticRegression_classifier = LogisticRegression()\n",
        "LogisticRegression_classifier.fit(train_vectors.toarray(), y_train)\n",
        "y_pred = cross_val_predict(LogisticRegression_classifier, test_vectors.toarray(), y_test, cv=5)\n",
        "\n",
        "print(classification_report(y_test, y_pred))\n",
        "print(\"ACCURACY::\", accuracy_score(y_pred, y_test))"
      ],
      "execution_count": 0,
      "outputs": [
        {
          "output_type": "stream",
          "text": [
            "/usr/local/lib/python3.6/dist-packages/sklearn/linear_model/logistic.py:433: FutureWarning: Default solver will be changed to 'lbfgs' in 0.22. Specify a solver to silence this warning.\n",
            "  FutureWarning)\n",
            "/usr/local/lib/python3.6/dist-packages/sklearn/linear_model/logistic.py:433: FutureWarning: Default solver will be changed to 'lbfgs' in 0.22. Specify a solver to silence this warning.\n",
            "  FutureWarning)\n",
            "/usr/local/lib/python3.6/dist-packages/sklearn/linear_model/logistic.py:433: FutureWarning: Default solver will be changed to 'lbfgs' in 0.22. Specify a solver to silence this warning.\n",
            "  FutureWarning)\n",
            "/usr/local/lib/python3.6/dist-packages/sklearn/linear_model/logistic.py:433: FutureWarning: Default solver will be changed to 'lbfgs' in 0.22. Specify a solver to silence this warning.\n",
            "  FutureWarning)\n",
            "/usr/local/lib/python3.6/dist-packages/sklearn/linear_model/logistic.py:433: FutureWarning: Default solver will be changed to 'lbfgs' in 0.22. Specify a solver to silence this warning.\n",
            "  FutureWarning)\n",
            "/usr/local/lib/python3.6/dist-packages/sklearn/linear_model/logistic.py:433: FutureWarning: Default solver will be changed to 'lbfgs' in 0.22. Specify a solver to silence this warning.\n",
            "  FutureWarning)\n"
          ],
          "name": "stderr"
        },
        {
          "output_type": "stream",
          "text": [
            "              precision    recall  f1-score   support\n",
            "\n",
            "           0       0.88      1.00      0.94       967\n",
            "           1       1.00      0.11      0.21       148\n",
            "\n",
            "   micro avg       0.88      0.88      0.88      1115\n",
            "   macro avg       0.94      0.56      0.57      1115\n",
            "weighted avg       0.90      0.88      0.84      1115\n",
            "\n",
            "ACCURACY:: 0.8825112107623319\n"
          ],
          "name": "stdout"
        }
      ]
    },
    {
      "metadata": {
        "id": "8Geo0qBIDJ8P",
        "colab_type": "code",
        "outputId": "f2b02848-7781-4fb1-e069-bf98fadee3fb",
        "colab": {
          "base_uri": "https://localhost:8080/",
          "height": 139
        }
      },
      "cell_type": "code",
      "source": [
        "evaluation(LogisticRegression_classifier)"
      ],
      "execution_count": 0,
      "outputs": [
        {
          "output_type": "stream",
          "text": [
            "ACCURACY:: 0.9659192825112107\n",
            "PRECISION:: 0.7567567567567568\n",
            "RECALL:: 0.9824561403508771\n",
            "F1 SCORE:: 0.8549618320610687\n",
            "CONFUSION MATRIX:: [[965  36]\n",
            " [  2 112]]\n",
            "965 36 2 112\n"
          ],
          "name": "stdout"
        }
      ]
    },
    {
      "metadata": {
        "id": "SNqVXPGmKnTf",
        "colab_type": "code",
        "outputId": "c59c4b48-fb4d-4c92-f1c0-19791bcfc224",
        "colab": {
          "base_uri": "https://localhost:8080/",
          "height": 419
        }
      },
      "cell_type": "code",
      "source": [
        "SGDClassifier_classifier = SGDClassifier()\n",
        "SGDClassifier_classifier.fit(train_vectors.toarray(), y_train)\n",
        "y_pred = cross_val_predict(SGDClassifier_classifier, test_vectors.toarray(), y_test, cv=5)\n",
        "\n",
        "print(classification_report(y_test, y_pred))\n",
        "print(\"ACCURACY::\", accuracy_score(y_pred, y_test))"
      ],
      "execution_count": 0,
      "outputs": [
        {
          "output_type": "stream",
          "text": [
            "/usr/local/lib/python3.6/dist-packages/sklearn/linear_model/stochastic_gradient.py:166: FutureWarning: max_iter and tol parameters have been added in SGDClassifier in 0.19. If both are left unset, they default to max_iter=5 and tol=None. If tol is not None, max_iter defaults to max_iter=1000. From 0.21, default max_iter will be 1000, and default tol will be 1e-3.\n",
            "  FutureWarning)\n",
            "/usr/local/lib/python3.6/dist-packages/sklearn/linear_model/stochastic_gradient.py:166: FutureWarning: max_iter and tol parameters have been added in SGDClassifier in 0.19. If both are left unset, they default to max_iter=5 and tol=None. If tol is not None, max_iter defaults to max_iter=1000. From 0.21, default max_iter will be 1000, and default tol will be 1e-3.\n",
            "  FutureWarning)\n",
            "/usr/local/lib/python3.6/dist-packages/sklearn/linear_model/stochastic_gradient.py:166: FutureWarning: max_iter and tol parameters have been added in SGDClassifier in 0.19. If both are left unset, they default to max_iter=5 and tol=None. If tol is not None, max_iter defaults to max_iter=1000. From 0.21, default max_iter will be 1000, and default tol will be 1e-3.\n",
            "  FutureWarning)\n",
            "/usr/local/lib/python3.6/dist-packages/sklearn/linear_model/stochastic_gradient.py:166: FutureWarning: max_iter and tol parameters have been added in SGDClassifier in 0.19. If both are left unset, they default to max_iter=5 and tol=None. If tol is not None, max_iter defaults to max_iter=1000. From 0.21, default max_iter will be 1000, and default tol will be 1e-3.\n",
            "  FutureWarning)\n",
            "/usr/local/lib/python3.6/dist-packages/sklearn/linear_model/stochastic_gradient.py:166: FutureWarning: max_iter and tol parameters have been added in SGDClassifier in 0.19. If both are left unset, they default to max_iter=5 and tol=None. If tol is not None, max_iter defaults to max_iter=1000. From 0.21, default max_iter will be 1000, and default tol will be 1e-3.\n",
            "  FutureWarning)\n"
          ],
          "name": "stderr"
        },
        {
          "output_type": "stream",
          "text": [
            "              precision    recall  f1-score   support\n",
            "\n",
            "           0       0.93      1.00      0.96       967\n",
            "           1       0.98      0.54      0.70       148\n",
            "\n",
            "   micro avg       0.94      0.94      0.94      1115\n",
            "   macro avg       0.95      0.77      0.83      1115\n",
            "weighted avg       0.94      0.94      0.93      1115\n",
            "\n",
            "ACCURACY:: 0.9372197309417041\n"
          ],
          "name": "stdout"
        },
        {
          "output_type": "stream",
          "text": [
            "/usr/local/lib/python3.6/dist-packages/sklearn/linear_model/stochastic_gradient.py:166: FutureWarning: max_iter and tol parameters have been added in SGDClassifier in 0.19. If both are left unset, they default to max_iter=5 and tol=None. If tol is not None, max_iter defaults to max_iter=1000. From 0.21, default max_iter will be 1000, and default tol will be 1e-3.\n",
            "  FutureWarning)\n"
          ],
          "name": "stderr"
        }
      ]
    },
    {
      "metadata": {
        "id": "73CokEYXDP-l",
        "colab_type": "code",
        "outputId": "7151d47d-8d66-4a44-e36d-14d36441cc3c",
        "colab": {
          "base_uri": "https://localhost:8080/",
          "height": 139
        }
      },
      "cell_type": "code",
      "source": [
        "evaluation(SGDClassifier_classifier)"
      ],
      "execution_count": 0,
      "outputs": [
        {
          "output_type": "stream",
          "text": [
            "ACCURACY:: 0.9856502242152466\n",
            "PRECISION:: 0.8986486486486487\n",
            "RECALL:: 0.9925373134328358\n",
            "F1 SCORE:: 0.9432624113475179\n",
            "CONFUSION MATRIX:: [[966  15]\n",
            " [  1 133]]\n",
            "966 15 1 133\n"
          ],
          "name": "stdout"
        }
      ]
    },
    {
      "metadata": {
        "id": "FXqT_4ScKoO7",
        "colab_type": "code",
        "outputId": "be1fe742-4c1d-48d3-d1f1-5d47aa12da29",
        "colab": {
          "base_uri": "https://localhost:8080/",
          "height": 191
        }
      },
      "cell_type": "code",
      "source": [
        "LinearSVC_classifier = LinearSVC()\n",
        "LinearSVC_classifier.fit(train_vectors.toarray(), y_train)\n",
        "y_pred = cross_val_predict(LinearSVC_classifier, test_vectors.toarray(), y_test, cv=5)\n",
        "\n",
        "print(classification_report(y_test, y_pred))\n",
        "print(\"ACCURACY::\", accuracy_score(y_pred, y_test))"
      ],
      "execution_count": 0,
      "outputs": [
        {
          "output_type": "stream",
          "text": [
            "              precision    recall  f1-score   support\n",
            "\n",
            "           0       0.95      1.00      0.97       967\n",
            "           1       0.98      0.64      0.77       148\n",
            "\n",
            "   micro avg       0.95      0.95      0.95      1115\n",
            "   macro avg       0.96      0.82      0.87      1115\n",
            "weighted avg       0.95      0.95      0.95      1115\n",
            "\n",
            "ACCURACY:: 0.9497757847533632\n"
          ],
          "name": "stdout"
        }
      ]
    },
    {
      "metadata": {
        "id": "bh_ESoiGKpF5",
        "colab_type": "code",
        "outputId": "1355fc83-2f63-482c-eee6-6277cf60f142",
        "colab": {
          "base_uri": "https://localhost:8080/",
          "height": 139
        }
      },
      "cell_type": "code",
      "source": [
        "evaluation(LinearSVC_classifier)"
      ],
      "execution_count": 0,
      "outputs": [
        {
          "output_type": "stream",
          "text": [
            "ACCURACY:: 0.9856502242152466\n",
            "PRECISION:: 0.8986486486486487\n",
            "RECALL:: 0.9925373134328358\n",
            "F1 SCORE:: 0.9432624113475179\n",
            "CONFUSION MATRIX:: [[966  15]\n",
            " [  1 133]]\n",
            "966 15 1 133\n"
          ],
          "name": "stdout"
        }
      ]
    },
    {
      "metadata": {
        "id": "QClmbMrYBSoL",
        "colab_type": "code",
        "outputId": "aaed25e9-a2c2-4a99-839c-96fe75986184",
        "colab": {
          "base_uri": "https://localhost:8080/",
          "height": 231
        }
      },
      "cell_type": "code",
      "source": [
        "all_classifiers = [nb, \n",
        "                   BernoulliNB_classifier, \n",
        "                   LogisticRegression_classifier, \n",
        "                   SGDClassifier_classifier, \n",
        "                   LinearSVC_classifier, \n",
        "                  ]\n",
        "\n",
        "all_classifier_names = [\"nb\",                    \n",
        "                   \"BernoulliNB_classifier\", \n",
        "                   \"LogisticRegression_classifier\", \n",
        "                   \"SGDClassifier_classifier\", \n",
        "                   \"LinearSVC_classifier\", \n",
        "                   ]\n",
        "\n",
        "for classifier, classifier_name in zip(all_classifiers, all_classifier_names):\n",
        "  save_classifier = open(\"/content/gdrive/My Drive/Sentiment analysis/pickles/\"+classifier_name+\".pickle\", \"wb\")\n",
        "  pickle.dump(classifier, save_classifier)\n",
        "  save_classifier.close()\n"
      ],
      "execution_count": 0,
      "outputs": [
        {
          "output_type": "error",
          "ename": "NameError",
          "evalue": "ignored",
          "traceback": [
            "\u001b[0;31m---------------------------------------------------------------------------\u001b[0m",
            "\u001b[0;31mNameError\u001b[0m                                 Traceback (most recent call last)",
            "\u001b[0;32m<ipython-input-2-3049aae130db>\u001b[0m in \u001b[0;36m<module>\u001b[0;34m()\u001b[0m\n\u001b[0;32m----> 1\u001b[0;31m all_classifiers = [nb, \n\u001b[0m\u001b[1;32m      2\u001b[0m \u001b[0;34m\u001b[0m\u001b[0m\n\u001b[1;32m      3\u001b[0m                    \u001b[0mBernoulliNB_classifier\u001b[0m\u001b[0;34m,\u001b[0m\u001b[0;34m\u001b[0m\u001b[0;34m\u001b[0m\u001b[0m\n\u001b[1;32m      4\u001b[0m                    \u001b[0mLogisticRegression_classifier\u001b[0m\u001b[0;34m,\u001b[0m\u001b[0;34m\u001b[0m\u001b[0;34m\u001b[0m\u001b[0m\n\u001b[1;32m      5\u001b[0m                    \u001b[0mSGDClassifier_classifier\u001b[0m\u001b[0;34m,\u001b[0m\u001b[0;34m\u001b[0m\u001b[0;34m\u001b[0m\u001b[0m\n",
            "\u001b[0;31mNameError\u001b[0m: name 'nb' is not defined"
          ]
        }
      ]
    },
    {
      "metadata": {
        "id": "MpEtlM2hDCwK",
        "colab_type": "code",
        "outputId": "9d745d43-faac-42db-d67a-b19e3200ae17",
        "colab": {
          "base_uri": "https://localhost:8080/",
          "height": 231
        }
      },
      "cell_type": "code",
      "source": [
        "class VoteClassifier(ClassifierI):\n",
        "    def __init__(self, *classifiers):\n",
        "        self._classifiers = classifiers\n",
        "    \n",
        "    def classify(self, features):\n",
        "        votes = []\n",
        "        for c in self._classifiers:\n",
        "            v = c.classify(features)\n",
        "            votes.append(v)\n",
        "        return mode(votes)\n",
        "    \n",
        "    def confidence(self, features):\n",
        "        votes = []\n",
        "        for c in self._classifiers:\n",
        "            v = c.classify(features)\n",
        "            votes.append(v)\n",
        "            \n",
        "        choice_votes = votes.count(mode(votes))\n",
        "        conf = choice_votes/len(votes)\n",
        "        return conf"
      ],
      "execution_count": 0,
      "outputs": [
        {
          "output_type": "error",
          "ename": "NameError",
          "evalue": "ignored",
          "traceback": [
            "\u001b[0;31m---------------------------------------------------------------------------\u001b[0m",
            "\u001b[0;31mNameError\u001b[0m                                 Traceback (most recent call last)",
            "\u001b[0;32m<ipython-input-4-23e9cb6b7475>\u001b[0m in \u001b[0;36m<module>\u001b[0;34m()\u001b[0m\n\u001b[0;32m----> 1\u001b[0;31m \u001b[0;32mclass\u001b[0m \u001b[0mVoteClassifier\u001b[0m\u001b[0;34m(\u001b[0m\u001b[0mClassifierI\u001b[0m\u001b[0;34m)\u001b[0m\u001b[0;34m:\u001b[0m\u001b[0;34m\u001b[0m\u001b[0;34m\u001b[0m\u001b[0m\n\u001b[0m\u001b[1;32m      2\u001b[0m     \u001b[0;32mdef\u001b[0m \u001b[0m__init__\u001b[0m\u001b[0;34m(\u001b[0m\u001b[0mself\u001b[0m\u001b[0;34m,\u001b[0m \u001b[0;34m*\u001b[0m\u001b[0mclassifiers\u001b[0m\u001b[0;34m)\u001b[0m\u001b[0;34m:\u001b[0m\u001b[0;34m\u001b[0m\u001b[0;34m\u001b[0m\u001b[0m\n\u001b[1;32m      3\u001b[0m         \u001b[0mself\u001b[0m\u001b[0;34m.\u001b[0m\u001b[0m_classifiers\u001b[0m \u001b[0;34m=\u001b[0m \u001b[0mclassifiers\u001b[0m\u001b[0;34m\u001b[0m\u001b[0;34m\u001b[0m\u001b[0m\n\u001b[1;32m      4\u001b[0m \u001b[0;34m\u001b[0m\u001b[0m\n\u001b[1;32m      5\u001b[0m     \u001b[0;32mdef\u001b[0m \u001b[0mclassify\u001b[0m\u001b[0;34m(\u001b[0m\u001b[0mself\u001b[0m\u001b[0;34m,\u001b[0m \u001b[0mfeatures\u001b[0m\u001b[0;34m)\u001b[0m\u001b[0;34m:\u001b[0m\u001b[0;34m\u001b[0m\u001b[0;34m\u001b[0m\u001b[0m\n",
            "\u001b[0;31mNameError\u001b[0m: name 'ClassifierI' is not defined"
          ]
        }
      ]
    },
    {
      "metadata": {
        "id": "yfrVO-acr55D",
        "colab_type": "code",
        "colab": {}
      },
      "cell_type": "code",
      "source": [
        ""
      ],
      "execution_count": 0,
      "outputs": []
    }
  ]
}